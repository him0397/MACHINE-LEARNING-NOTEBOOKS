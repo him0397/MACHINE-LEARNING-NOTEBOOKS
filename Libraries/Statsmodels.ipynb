{
  "nbformat": 4,
  "nbformat_minor": 0,
  "metadata": {
    "colab": {
      "provenance": []
    },
    "kernelspec": {
      "name": "python3",
      "display_name": "Python 3"
    },
    "language_info": {
      "name": "python"
    }
  },
  "cells": [
    {
      "cell_type": "markdown",
      "source": [
        "# Statsmodels\n",
        "Statsmodels is a Python module that allows users to explore data, estimate statistical models, and perform statistical tests. An extensive list of descriptive statistics, statistical tests, plotting functions, and result statistics are available for different types of data and each estimator.\n",
        "\n",
        "Library documentation: http://statsmodels.sourceforge.net/\n",
        "\n",
        "## Linear Regression Models"
      ],
      "metadata": {
        "id": "YQu1JT6u8b0T"
      }
    },
    {
      "cell_type": "code",
      "execution_count": 115,
      "metadata": {
        "id": "ZDyov9yj8Zee"
      },
      "outputs": [],
      "source": [
        "# needed to display the graphs\n",
        "%matplotlib inline\n",
        "from pylab import *"
      ]
    },
    {
      "cell_type": "code",
      "source": [
        "import numpy as np\n",
        "import pandas as pd\n",
        "import statsmodels.api as sm\n",
        "from statsmodels.sandbox.regression.predstd import wls_prediction_std\n",
        "np.random.seed(9876789)"
      ],
      "metadata": {
        "id": "cWg09DlH8tSJ"
      },
      "execution_count": 116,
      "outputs": []
    },
    {
      "cell_type": "code",
      "source": [
        "# create some artificial data\n",
        "nsample = 100\n",
        "x = np.linspace(0, 10, 100)\n",
        "X = np.column_stack((x, x**2))\n",
        "beta = np.array([1, 0.1, 10])\n",
        "e = np.random.normal(size=nsample)"
      ],
      "metadata": {
        "id": "kxVWEJ9J8uSI"
      },
      "execution_count": 117,
      "outputs": []
    },
    {
      "cell_type": "code",
      "source": [
        "# add column of 1s for intercept\n",
        "X = sm.add_constant(X)\n",
        "y = np.dot(X, beta) + e"
      ],
      "metadata": {
        "id": "oLnY-Mxs8vVA"
      },
      "execution_count": 118,
      "outputs": []
    },
    {
      "cell_type": "code",
      "source": [
        "# fit model and print the summary\n",
        "model = sm.OLS(y, X)\n",
        "results = model.fit()\n",
        "print(results.summary())"
      ],
      "metadata": {
        "colab": {
          "base_uri": "https://localhost:8080/"
        },
        "id": "MV-TtqJc8wWQ",
        "outputId": "8876449b-02f2-4bdc-aaa6-ad3c4b3dced9"
      },
      "execution_count": 119,
      "outputs": [
        {
          "output_type": "stream",
          "name": "stdout",
          "text": [
            "                            OLS Regression Results                            \n",
            "==============================================================================\n",
            "Dep. Variable:                      y   R-squared:                       1.000\n",
            "Model:                            OLS   Adj. R-squared:                  1.000\n",
            "Method:                 Least Squares   F-statistic:                 4.020e+06\n",
            "Date:                Mon, 08 May 2023   Prob (F-statistic):          2.83e-239\n",
            "Time:                        06:26:35   Log-Likelihood:                -146.51\n",
            "No. Observations:                 100   AIC:                             299.0\n",
            "Df Residuals:                      97   BIC:                             306.8\n",
            "Df Model:                           2                                         \n",
            "Covariance Type:            nonrobust                                         \n",
            "==============================================================================\n",
            "                 coef    std err          t      P>|t|      [0.025      0.975]\n",
            "------------------------------------------------------------------------------\n",
            "const          1.3423      0.313      4.292      0.000       0.722       1.963\n",
            "x1            -0.0402      0.145     -0.278      0.781      -0.327       0.247\n",
            "x2            10.0103      0.014    715.745      0.000       9.982      10.038\n",
            "==============================================================================\n",
            "Omnibus:                        2.042   Durbin-Watson:                   2.274\n",
            "Prob(Omnibus):                  0.360   Jarque-Bera (JB):                1.875\n",
            "Skew:                           0.234   Prob(JB):                        0.392\n",
            "Kurtosis:                       2.519   Cond. No.                         144.\n",
            "==============================================================================\n",
            "\n",
            "Notes:\n",
            "[1] Standard Errors assume that the covariance matrix of the errors is correctly specified.\n"
          ]
        }
      ]
    },
    {
      "cell_type": "code",
      "source": [
        "# individual results parameters can be accessed\n",
        "print('Parameters: ', results.params)\n",
        "print('R2: ', results.rsquared)"
      ],
      "metadata": {
        "colab": {
          "base_uri": "https://localhost:8080/"
        },
        "id": "kcUZNMsr8y2C",
        "outputId": "eb5eca30-30cb-4d1a-f57a-1a5792c2e4f2"
      },
      "execution_count": 120,
      "outputs": [
        {
          "output_type": "stream",
          "name": "stdout",
          "text": [
            "Parameters:  [ 1.34233516 -0.04024948 10.01025357]\n",
            "R2:  0.9999879365025871\n"
          ]
        }
      ]
    },
    {
      "cell_type": "code",
      "source": [
        "# example with non-linear relationship\n",
        "nsample = 50\n",
        "sig = 0.5\n",
        "x = np.linspace(0, 20, nsample)\n",
        "X = np.column_stack((x, np.sin(x), (x-5)**2, np.ones(nsample)))\n",
        "beta = [0.5, 0.5, -0.02, 5.]\n",
        "\n",
        "y_true = np.dot(X, beta)\n",
        "y = y_true + sig * np.random.normal(size=nsample)\n",
        "\n",
        "res = sm.OLS(y, X).fit()\n",
        "print(res.summary())"
      ],
      "metadata": {
        "colab": {
          "base_uri": "https://localhost:8080/"
        },
        "id": "mK3lkCgQ8z8-",
        "outputId": "809fd2ca-8219-4309-fdb5-4fbf75f7209c"
      },
      "execution_count": 121,
      "outputs": [
        {
          "output_type": "stream",
          "name": "stdout",
          "text": [
            "                            OLS Regression Results                            \n",
            "==============================================================================\n",
            "Dep. Variable:                      y   R-squared:                       0.933\n",
            "Model:                            OLS   Adj. R-squared:                  0.928\n",
            "Method:                 Least Squares   F-statistic:                     211.8\n",
            "Date:                Mon, 08 May 2023   Prob (F-statistic):           6.30e-27\n",
            "Time:                        06:26:35   Log-Likelihood:                -34.438\n",
            "No. Observations:                  50   AIC:                             76.88\n",
            "Df Residuals:                      46   BIC:                             84.52\n",
            "Df Model:                           3                                         \n",
            "Covariance Type:            nonrobust                                         \n",
            "==============================================================================\n",
            "                 coef    std err          t      P>|t|      [0.025      0.975]\n",
            "------------------------------------------------------------------------------\n",
            "x1             0.4687      0.026     17.751      0.000       0.416       0.522\n",
            "x2             0.4836      0.104      4.659      0.000       0.275       0.693\n",
            "x3            -0.0174      0.002     -7.507      0.000      -0.022      -0.013\n",
            "const          5.2058      0.171     30.405      0.000       4.861       5.550\n",
            "==============================================================================\n",
            "Omnibus:                        0.655   Durbin-Watson:                   2.896\n",
            "Prob(Omnibus):                  0.721   Jarque-Bera (JB):                0.360\n",
            "Skew:                           0.207   Prob(JB):                        0.835\n",
            "Kurtosis:                       3.026   Cond. No.                         221.\n",
            "==============================================================================\n",
            "\n",
            "Notes:\n",
            "[1] Standard Errors assume that the covariance matrix of the errors is correctly specified.\n"
          ]
        }
      ]
    },
    {
      "cell_type": "code",
      "source": [
        "# look at some quantities of interest\n",
        "print('Parameters: ', res.params)\n",
        "print('Standard errors: ', res.bse)\n",
        "print('Predicted values: ', res.predict())"
      ],
      "metadata": {
        "colab": {
          "base_uri": "https://localhost:8080/"
        },
        "id": "222Fz-Lf81W5",
        "outputId": "7be610ce-8cd7-4d7f-bc20-e7500ece8d5a"
      },
      "execution_count": 122,
      "outputs": [
        {
          "output_type": "stream",
          "name": "stdout",
          "text": [
            "Parameters:  [ 0.46872448  0.48360119 -0.01740479  5.20584496]\n",
            "Standard errors:  [0.02640602 0.10380518 0.00231847 0.17121765]\n",
            "Predicted values:  [ 4.77072516  5.22213464  5.63620761  5.98658823  6.25643234  6.44117491\n",
            "  6.54928009  6.60085051  6.62432454  6.6518039   6.71377946  6.83412169\n",
            "  7.02615877  7.29048685  7.61487206  7.97626054  8.34456611  8.68761335\n",
            "  8.97642389  9.18997755  9.31866582  9.36587056  9.34740836  9.28893189\n",
            "  9.22171529  9.17751587  9.1833565   9.25708583  9.40444579  9.61812821\n",
            "  9.87897556 10.15912843 10.42660281 10.65054491 10.8063004  10.87946503\n",
            " 10.86825119 10.78378163 10.64826203 10.49133265 10.34519853 10.23933827\n",
            " 10.19566084 10.22490593 10.32487947 10.48081414 10.66779556 10.85485568\n",
            " 11.01006072 11.10575781]\n"
          ]
        }
      ]
    },
    {
      "cell_type": "code",
      "source": [
        "# plot the true relationship vs. the prediction\n",
        "prstd, iv_l, iv_u = wls_prediction_std(res)\n",
        "\n",
        "fig, ax = plt.subplots(figsize=(8,6))\n",
        "\n",
        "ax.plot(x, y, 'o', label=\"data\")\n",
        "ax.plot(x, y_true, 'b-', label=\"True\")\n",
        "ax.plot(x, res.fittedvalues, 'r--.', label=\"OLS\")\n",
        "ax.plot(x, iv_u, 'r--')\n",
        "ax.plot(x, iv_l, 'r--')\n",
        "ax.legend(loc='best')"
      ],
      "metadata": {
        "colab": {
          "base_uri": "https://localhost:8080/",
          "height": 539
        },
        "id": "aWfXEyrT82kI",
        "outputId": "70d5c1a9-79d7-40a4-c352-9dcbbde128aa"
      },
      "execution_count": 123,
      "outputs": [
        {
          "output_type": "execute_result",
          "data": {
            "text/plain": [
              "<matplotlib.legend.Legend at 0x7f70cb2d2dd0>"
            ]
          },
          "metadata": {},
          "execution_count": 123
        },
        {
          "output_type": "display_data",
          "data": {
            "text/plain": [
              "<Figure size 800x600 with 1 Axes>"
            ],
            "image/png": "[encoded data removed]"
          },
          "metadata": {}
        }
      ]
    },
    {
      "cell_type": "markdown",
      "source": [
        "## Time-Series Analysis"
      ],
      "metadata": {
        "id": "6LbFiHyx84AK"
      }
    },
    {
      "cell_type": "code",
      "source": [
        "from statsmodels.tsa.arima_process import arma_generate_sample\n",
        "import statsmodels.api as sm"
      ],
      "metadata": {
        "id": "onVucjwY85XJ"
      },
      "execution_count": 127,
      "outputs": []
    },
    {
      "cell_type": "code",
      "source": [
        "# generate some data\n",
        "np.random.seed(123)\n",
        "nobs = 100\n",
        "y = np.random.rand(nobs).cumsum()\n",
        "dates = pd.date_range('1980-01', periods=nobs, freq='M')\n",
        "y = pd.Series(y, index=dates)"
      ],
      "metadata": {
        "id": "p-VmbdI286dY"
      },
      "execution_count": 128,
      "outputs": []
    },
    {
      "cell_type": "code",
      "source": [
        "# fit ARIMA model\n",
        "sarimax_mod = sm.tsa.SARIMAX(y, order=(2,1,2), trend='n')\n",
        "sarimax_res = sarimax_mod.fit(disp=-1)"
      ],
      "metadata": {
        "id": "ie7fw02k888J"
      },
      "execution_count": 129,
      "outputs": []
    },
    {
      "cell_type": "code",
      "source": [
        "# print summary of results\n",
        "print(sarimax_res.summary())"
      ],
      "metadata": {
        "colab": {
          "base_uri": "https://localhost:8080/"
        },
        "id": "oOv49hCk8-Gw",
        "outputId": "7a1f2f18-aa26-4e09-e205-64b0cc118859"
      },
      "execution_count": 131,
      "outputs": [
        {
          "output_type": "stream",
          "name": "stdout",
          "text": [
            "                               SARIMAX Results                                \n",
            "==============================================================================\n",
            "Dep. Variable:                      y   No. Observations:                  100\n",
            "Model:               SARIMAX(2, 1, 2)   Log Likelihood                  -5.064\n",
            "Date:                Mon, 08 May 2023   AIC                             20.128\n",
            "Time:                        06:28:33   BIC                             33.103\n",
            "Sample:                    01-31-1980   HQIC                            25.378\n",
            "                         - 04-30-1988                                         \n",
            "Covariance Type:                  opg                                         \n",
            "==============================================================================\n",
            "                 coef    std err          z      P>|z|      [0.025      0.975]\n",
            "------------------------------------------------------------------------------\n",
            "ar.L1          0.0012      0.977      0.001      0.999      -1.915       1.917\n",
            "ar.L2          0.9988      0.978      1.022      0.307      -0.917       2.915\n",
            "ma.L1          0.0033      4.616      0.001      0.999      -9.043       9.050\n",
            "ma.L2         -0.9965      4.698     -0.212      0.832     -10.205       8.212\n",
            "sigma2         0.0612      0.232      0.264      0.792      -0.393       0.515\n",
            "===================================================================================\n",
            "Ljung-Box (L1) (Q):                   0.24   Jarque-Bera (JB):                 2.33\n",
            "Prob(Q):                              0.63   Prob(JB):                         0.31\n",
            "Heteroskedasticity (H):               1.44   Skew:                            -0.02\n",
            "Prob(H) (two-sided):                  0.30   Kurtosis:                         2.25\n",
            "===================================================================================\n",
            "\n",
            "Warnings:\n",
            "[1] Covariance matrix calculated using the outer product of gradients (complex-step).\n"
          ]
        }
      ]
    }
  ]
}