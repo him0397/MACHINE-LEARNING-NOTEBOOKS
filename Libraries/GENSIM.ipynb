{
  "nbformat": 4,
  "nbformat_minor": 0,
  "metadata": {
    "colab": {
      "provenance": []
    },
    "kernelspec": {
      "name": "python3",
      "display_name": "Python 3"
    },
    "language_info": {
      "name": "python"
    }
  },
  "cells": [
    {
      "cell_type": "markdown",
      "source": [
        "# Gensim\n",
        "Gensim is a free Python library designed to automatically extract semantic topics from documents, as efficiently (computer-wise) and painlessly (human-wise) as possible.\n",
        "\n",
        "Gensim aims at processing raw, unstructured digital texts (“plain text”). The algorithms in gensim, such as Latent Semantic Analysis, Latent Dirichlet Allocation or Random Projections, discover semantic structure of documents, by examining word statistical co-occurrence patterns within a corpus of training documents. These algorithms are unsupervised, which means no human input is necessary – you only need a corpus of plain text documents.\n",
        "\n",
        "Once these statistical patterns are found, any plain text documents can be succinctly expressed in the new, semantic representation, and queried for topical similarity against other documents.\n",
        "\n",
        "Library documentation: https://radimrehurek.com/gensim/index.html"
      ],
      "metadata": {
        "id": "jPVJknkf1Z70"
      }
    },
    {
      "cell_type": "code",
      "execution_count": 1,
      "metadata": {
        "id": "fa3jmm5C1VpO"
      },
      "outputs": [],
      "source": [
        "from gensim import corpora, models, similarities\n",
        "\n",
        "documents = [\"Human machine interface for lab abc computer applications\",\n",
        "             \"A survey of user opinion of computer system response time\",\n",
        "             \"The EPS user interface management system\",\n",
        "             \"System and human system engineering testing of EPS\",\n",
        "             \"Relation of user perceived response time to error measurement\",\n",
        "             \"The generation of random binary unordered trees\",\n",
        "             \"The intersection graph of paths in trees\",\n",
        "             \"Graph minors IV Widths of trees and well quasi ordering\",\n",
        "             \"Graph minors A survey\"]"
      ]
    },
    {
      "cell_type": "code",
      "source": [
        "# remove common words and tokenize\n",
        "stoplist = set('for a of the and to in'.split())\n",
        "texts = [[word for word in document.lower().split() if word not in stoplist]\n",
        "         for document in documents]"
      ],
      "metadata": {
        "id": "Akn0d3xi1prD"
      },
      "execution_count": 2,
      "outputs": []
    },
    {
      "cell_type": "code",
      "source": [
        "# remove words that appear only once\n",
        "from collections import defaultdict\n",
        "frequency = defaultdict(int)\n",
        "for text in texts:\n",
        "    for token in text:\n",
        "        frequency[token] += 1\n",
        "\n",
        "texts = [[token for token in text if frequency[token] > 1]\n",
        "         for text in texts]"
      ],
      "metadata": {
        "id": "Zg70DT7a1sSS"
      },
      "execution_count": 3,
      "outputs": []
    },
    {
      "cell_type": "code",
      "source": [
        "from pprint import pprint\n",
        "pprint(texts)\n",
        "[['human', 'interface', 'computer'],\n",
        " ['survey', 'user', 'computer', 'system', 'response', 'time'],\n",
        " ['eps', 'user', 'interface', 'system'],\n",
        " ['system', 'human', 'system', 'eps'],\n",
        " ['user', 'response', 'time'],\n",
        " ['trees'],\n",
        " ['graph', 'trees'],\n",
        " ['graph', 'minors', 'trees'],\n",
        " ['graph', 'minors', 'survey']]"
      ],
      "metadata": {
        "colab": {
          "base_uri": "https://localhost:8080/"
        },
        "id": "E4SXZG1r1uKr",
        "outputId": "cf67f37c-5cab-46cc-828d-5ab4d0304c45"
      },
      "execution_count": 4,
      "outputs": [
        {
          "output_type": "stream",
          "name": "stdout",
          "text": [
            "[['human', 'interface', 'computer'],\n",
            " ['survey', 'user', 'computer', 'system', 'response', 'time'],\n",
            " ['eps', 'user', 'interface', 'system'],\n",
            " ['system', 'human', 'system', 'eps'],\n",
            " ['user', 'response', 'time'],\n",
            " ['trees'],\n",
            " ['graph', 'trees'],\n",
            " ['graph', 'minors', 'trees'],\n",
            " ['graph', 'minors', 'survey']]\n"
          ]
        },
        {
          "output_type": "execute_result",
          "data": {
            "text/plain": [
              "[['human', 'interface', 'computer'],\n",
              " ['survey', 'user', 'computer', 'system', 'response', 'time'],\n",
              " ['eps', 'user', 'interface', 'system'],\n",
              " ['system', 'human', 'system', 'eps'],\n",
              " ['user', 'response', 'time'],\n",
              " ['trees'],\n",
              " ['graph', 'trees'],\n",
              " ['graph', 'minors', 'trees'],\n",
              " ['graph', 'minors', 'survey']]"
            ]
          },
          "metadata": {},
          "execution_count": 4
        }
      ]
    },
    {
      "cell_type": "code",
      "source": [
        "# create a dictionary mapping between ids and unique words\n",
        "dictionary = corpora.Dictionary(texts)\n",
        "print(dictionary)"
      ],
      "metadata": {
        "colab": {
          "base_uri": "https://localhost:8080/"
        },
        "id": "ePX7gZ9P1voy",
        "outputId": "b9050422-99d4-4df5-ee77-d4eb8af18638"
      },
      "execution_count": 5,
      "outputs": [
        {
          "output_type": "stream",
          "name": "stdout",
          "text": [
            "Dictionary<12 unique tokens: ['computer', 'human', 'interface', 'response', 'survey']...>\n"
          ]
        }
      ]
    },
    {
      "cell_type": "code",
      "source": [
        "# mapping between ids and words\n",
        "print(dictionary.token2id)"
      ],
      "metadata": {
        "colab": {
          "base_uri": "https://localhost:8080/"
        },
        "id": "JEFMG6kX10Ty",
        "outputId": "3d80223e-55ca-4ad6-c201-cde076f93e68"
      },
      "execution_count": 6,
      "outputs": [
        {
          "output_type": "stream",
          "name": "stdout",
          "text": [
            "{'computer': 0, 'human': 1, 'interface': 2, 'response': 3, 'survey': 4, 'system': 5, 'time': 6, 'user': 7, 'eps': 8, 'trees': 9, 'graph': 10, 'minors': 11}\n"
          ]
        }
      ]
    },
    {
      "cell_type": "code",
      "source": [
        "# convert the text to a bag-of-words corpus\n",
        "corpus = [dictionary.doc2bow(text) for text in texts]\n",
        "pprint(corpus)"
      ],
      "metadata": {
        "colab": {
          "base_uri": "https://localhost:8080/"
        },
        "id": "gq9XJks-11ka",
        "outputId": "a02438ce-d4aa-4d84-8476-072c4b76d257"
      },
      "execution_count": 7,
      "outputs": [
        {
          "output_type": "stream",
          "name": "stdout",
          "text": [
            "[[(0, 1), (1, 1), (2, 1)],\n",
            " [(0, 1), (3, 1), (4, 1), (5, 1), (6, 1), (7, 1)],\n",
            " [(2, 1), (5, 1), (7, 1), (8, 1)],\n",
            " [(1, 1), (5, 2), (8, 1)],\n",
            " [(3, 1), (6, 1), (7, 1)],\n",
            " [(9, 1)],\n",
            " [(9, 1), (10, 1)],\n",
            " [(9, 1), (10, 1), (11, 1)],\n",
            " [(4, 1), (10, 1), (11, 1)]]\n"
          ]
        }
      ]
    },
    {
      "cell_type": "code",
      "source": [
        "# can convert to numpy/scipy matrices and back\n",
        "from gensim import matutils\n",
        "numpy_matrix = matutils.corpus2dense(corpus, num_terms=12)\n",
        "print(numpy_matrix)"
      ],
      "metadata": {
        "colab": {
          "base_uri": "https://localhost:8080/"
        },
        "id": "f9ThnAlo14Zp",
        "outputId": "18ef9d80-0c3a-4b05-fc44-b8f6ea818172"
      },
      "execution_count": 8,
      "outputs": [
        {
          "output_type": "stream",
          "name": "stdout",
          "text": [
            "[[1. 1. 0. 0. 0. 0. 0. 0. 0.]\n",
            " [1. 0. 0. 1. 0. 0. 0. 0. 0.]\n",
            " [1. 0. 1. 0. 0. 0. 0. 0. 0.]\n",
            " [0. 1. 0. 0. 1. 0. 0. 0. 0.]\n",
            " [0. 1. 0. 0. 0. 0. 0. 0. 1.]\n",
            " [0. 1. 1. 2. 0. 0. 0. 0. 0.]\n",
            " [0. 1. 0. 0. 1. 0. 0. 0. 0.]\n",
            " [0. 1. 1. 0. 1. 0. 0. 0. 0.]\n",
            " [0. 0. 1. 1. 0. 0. 0. 0. 0.]\n",
            " [0. 0. 0. 0. 0. 1. 1. 1. 0.]\n",
            " [0. 0. 0. 0. 0. 0. 1. 1. 1.]\n",
            " [0. 0. 0. 0. 0. 0. 0. 1. 1.]]\n"
          ]
        }
      ]
    },
    {
      "cell_type": "code",
      "source": [
        "scipy_csc_matrix = matutils.corpus2csc(corpus)\n",
        "numpy_corpus = matutils.Dense2Corpus(numpy_matrix)\n",
        "scipy_corpus = matutils.Sparse2Corpus(scipy_csc_matrix)"
      ],
      "metadata": {
        "id": "0BWm68qK150J"
      },
      "execution_count": 10,
      "outputs": []
    },
    {
      "cell_type": "code",
      "source": [
        "# initialize a TF-IDF transformation\n",
        "tfidf = models.TfidfModel(corpus)"
      ],
      "metadata": {
        "id": "HmmzOuRX2Ada"
      },
      "execution_count": 11,
      "outputs": []
    },
    {
      "cell_type": "code",
      "source": [
        "# apply it to the whole corpus\n",
        "corpus_tfidf = tfidf[corpus]\n",
        "for doc in corpus_tfidf:\n",
        "    print(doc)"
      ],
      "metadata": {
        "colab": {
          "base_uri": "https://localhost:8080/"
        },
        "id": "EL2vXDZO2BwC",
        "outputId": "96964ead-0442-4b74-f223-78bae605227d"
      },
      "execution_count": 12,
      "outputs": [
        {
          "output_type": "stream",
          "name": "stdout",
          "text": [
            "[(0, 0.5773502691896257), (1, 0.5773502691896257), (2, 0.5773502691896257)]\n",
            "[(0, 0.44424552527467476), (3, 0.44424552527467476), (4, 0.44424552527467476), (5, 0.3244870206138555), (6, 0.44424552527467476), (7, 0.3244870206138555)]\n",
            "[(2, 0.5710059809418182), (5, 0.4170757362022777), (7, 0.4170757362022777), (8, 0.5710059809418182)]\n",
            "[(1, 0.49182558987264147), (5, 0.7184811607083769), (8, 0.49182558987264147)]\n",
            "[(3, 0.6282580468670046), (6, 0.6282580468670046), (7, 0.45889394536615247)]\n",
            "[(9, 1.0)]\n",
            "[(9, 0.7071067811865475), (10, 0.7071067811865475)]\n",
            "[(9, 0.5080429008916749), (10, 0.5080429008916749), (11, 0.695546419520037)]\n",
            "[(4, 0.6282580468670046), (10, 0.45889394536615247), (11, 0.6282580468670046)]\n"
          ]
        }
      ]
    },
    {
      "cell_type": "code",
      "source": [
        "# initialize an LSI transformation\n",
        "lsi = models.LsiModel(corpus_tfidf, id2word=dictionary, num_topics=2)\n",
        "lsi.print_topics(2)"
      ],
      "metadata": {
        "colab": {
          "base_uri": "https://localhost:8080/"
        },
        "id": "dJifYWnr2DdC",
        "outputId": "76c09022-cc0c-4c93-cc7e-394be0edc7eb"
      },
      "execution_count": 13,
      "outputs": [
        {
          "output_type": "execute_result",
          "data": {
            "text/plain": [
              "[(0,\n",
              "  '0.703*\"trees\" + 0.538*\"graph\" + 0.402*\"minors\" + 0.187*\"survey\" + 0.061*\"system\" + 0.060*\"response\" + 0.060*\"time\" + 0.058*\"user\" + 0.049*\"computer\" + 0.035*\"interface\"'),\n",
              " (1,\n",
              "  '-0.460*\"system\" + -0.373*\"user\" + -0.332*\"eps\" + -0.328*\"interface\" + -0.320*\"time\" + -0.320*\"response\" + -0.293*\"computer\" + -0.280*\"human\" + -0.171*\"survey\" + 0.161*\"trees\"')]"
            ]
          },
          "metadata": {},
          "execution_count": 13
        }
      ]
    },
    {
      "cell_type": "code",
      "source": [
        "# create a double wrapper over the original corpus: bow->tfidf->lsi\n",
        "corpus_lsi = lsi[corpus_tfidf]\n",
        "for doc in corpus_lsi:\n",
        "    print(doc)"
      ],
      "metadata": {
        "colab": {
          "base_uri": "https://localhost:8080/"
        },
        "id": "3CAdkx1l2EzS",
        "outputId": "5f599a1e-8746-4aaf-a1a9-6ce751972114"
      },
      "execution_count": 14,
      "outputs": [
        {
          "output_type": "stream",
          "name": "stdout",
          "text": [
            "[(0, 0.06600783396090618), (1, -0.5200703306361844)]\n",
            "[(0, 0.196675928591428), (1, -0.7609563167700043)]\n",
            "[(0, 0.0899263997244682), (1, -0.7241860626752508)]\n",
            "[(0, 0.07585847652178512), (1, -0.6320551586003423)]\n",
            "[(0, 0.10150299184980346), (1, -0.5737308483002954)]\n",
            "[(0, 0.70321089393783), (1, 0.16115180214026142)]\n",
            "[(0, 0.8774787673119824), (1, 0.1675890686465985)]\n",
            "[(0, 0.9098624686818573), (1, 0.14086553628719475)]\n",
            "[(0, 0.6165825350569285), (1, -0.05392907566389071)]\n"
          ]
        }
      ]
    },
    {
      "cell_type": "code",
      "source": [
        "# random projection model\n",
        "rp = models.RpModel(corpus_tfidf, num_topics=500)"
      ],
      "metadata": {
        "id": "07G8YGc-2GcC"
      },
      "execution_count": 15,
      "outputs": []
    },
    {
      "cell_type": "code",
      "source": [
        "# latent dirichlet allocation model\n",
        "lda = models.LdaModel(corpus, id2word=dictionary, num_topics=100)"
      ],
      "metadata": {
        "colab": {
          "base_uri": "https://localhost:8080/"
        },
        "id": "c-b-CXcf2Jmr",
        "outputId": "16444099-6109-48ec-fa8c-ba6409f7f710"
      },
      "execution_count": 16,
      "outputs": [
        {
          "output_type": "stream",
          "name": "stderr",
          "text": [
            "WARNING:gensim.models.ldamodel:too few updates, training might not converge; consider increasing the number of passes or iterations to improve accuracy\n"
          ]
        }
      ]
    },
    {
      "cell_type": "code",
      "source": [
        "# convert a phrase into the LSI model space\n",
        "doc = \"Human computer interaction\"\n",
        "vec_bow = dictionary.doc2bow(doc.lower().split())\n",
        "vec_lsi = lsi[vec_bow] # convert the query to LSI space\n",
        "print(vec_lsi)"
      ],
      "metadata": {
        "colab": {
          "base_uri": "https://localhost:8080/"
        },
        "id": "7eMWJmam2Icp",
        "outputId": "7396542f-2e09-4da5-b4bf-f16bdd22a964"
      },
      "execution_count": 17,
      "outputs": [
        {
          "output_type": "stream",
          "name": "stdout",
          "text": [
            "[(0, 0.07910475117445122), (1, -0.5732835243079394)]\n"
          ]
        }
      ]
    },
    {
      "cell_type": "code",
      "source": [
        "# index the transformed corpus from earlier\n",
        "index = similarities.MatrixSimilarity(corpus_lsi)"
      ],
      "metadata": {
        "colab": {
          "base_uri": "https://localhost:8080/"
        },
        "id": "Vw_EGJWS2Nf6",
        "outputId": "1115ca61-0a4c-4cc5-ed14-9aed831db12e"
      },
      "execution_count": 18,
      "outputs": [
        {
          "output_type": "stream",
          "name": "stderr",
          "text": [
            "WARNING:gensim.similarities.docsim:scanning corpus to determine the number of features (consider setting `num_features` explicitly)\n"
          ]
        }
      ]
    },
    {
      "cell_type": "code",
      "source": [
        "# perform a similarity query against the corpus using cosine similarity\n",
        "sims = index[vec_lsi]\n",
        "print(list(enumerate(sims)))"
      ],
      "metadata": {
        "colab": {
          "base_uri": "https://localhost:8080/"
        },
        "id": "vasnwL762PYp",
        "outputId": "0146aaa3-887d-40ec-df10-63ae49de7193"
      },
      "execution_count": 19,
      "outputs": [
        {
          "output_type": "stream",
          "name": "stdout",
          "text": [
            "[(0, 0.9999408), (1, 0.99330217), (2, 0.99990785), (3, 0.99984384), (4, 0.9992786), (5, -0.08804217), (6, -0.0515742), (7, -0.016480923), (8, 0.2224844)]\n"
          ]
        }
      ]
    },
    {
      "cell_type": "code",
      "source": [
        "# display in sorted order\n",
        "sims = sorted(enumerate(sims), key=lambda item: -item[1])\n",
        "pprint(sims)"
      ],
      "metadata": {
        "colab": {
          "base_uri": "https://localhost:8080/"
        },
        "id": "VaEdvqJR2R5y",
        "outputId": "96e44c90-29d9-4995-a84f-1154f286c08d"
      },
      "execution_count": 20,
      "outputs": [
        {
          "output_type": "stream",
          "name": "stdout",
          "text": [
            "[(0, 0.9999408),\n",
            " (2, 0.99990785),\n",
            " (3, 0.99984384),\n",
            " (4, 0.9992786),\n",
            " (1, 0.99330217),\n",
            " (8, 0.2224844),\n",
            " (7, -0.016480923),\n",
            " (6, -0.0515742),\n",
            " (5, -0.08804217)]\n"
          ]
        }
      ]
    }
  ]
}