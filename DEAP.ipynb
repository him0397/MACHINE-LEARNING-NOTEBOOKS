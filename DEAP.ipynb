{
  "nbformat": 4,
  "nbformat_minor": 0,
  "metadata": {
    "colab": {
      "provenance": []
    },
    "kernelspec": {
      "name": "python3",
      "display_name": "Python 3"
    },
    "language_info": {
      "name": "python"
    }
  },
  "cells": [
    {
      "cell_type": "markdown",
      "source": [
        "# DEAP\n",
        "DEAP is a novel evolutionary computation framework for rapid prototyping and testing of ideas. It seeks to make algorithms explicit and data structures transparent. It works in perfect harmony with parallelisation mechanism such as multiprocessing and SCOOP. The following documentation presents the key concepts and many features to build your own evolutions.\n",
        "\n",
        "Library documentation: http://deap.readthedocs.org/en/master/\n",
        "## One Max Problem (GA)\n",
        "This problem is very simple, we search for a 1 filled list individual. This problem is widely used in the evolutionary computation community since it is very simple and it illustrates well the potential of evolutionary algorithms."
      ],
      "metadata": {
        "id": "7LVB2OCL0EYb"
      }
    },
    {
      "cell_type": "code",
      "execution_count": 2,
      "metadata": {
        "colab": {
          "base_uri": "https://localhost:8080/"
        },
        "id": "j-yo49Xc0Duv",
        "outputId": "50654c29-02be-4a04-eb12-72930f55b60e"
      },
      "outputs": [
        {
          "output_type": "stream",
          "name": "stdout",
          "text": [
            "Looking in indexes: https://pypi.org/simple, https://us-python.pkg.dev/colab-wheels/public/simple/\n",
            "Collecting deap\n",
            "  Downloading deap-1.3.3-cp310-cp310-manylinux_2_5_x86_64.manylinux1_x86_64.manylinux_2_17_x86_64.manylinux2014_x86_64.whl (139 kB)\n",
            "\u001b[2K     \u001b[90m━━━━━━━━━━━━━━━━━━━━━━━━━━━━━━━━━━━━━━━\u001b[0m \u001b[32m139.9/139.9 kB\u001b[0m \u001b[31m7.2 MB/s\u001b[0m eta \u001b[36m0:00:00\u001b[0m\n",
            "\u001b[?25hRequirement already satisfied: numpy in /usr/local/lib/python3.10/dist-packages (from deap) (1.22.4)\n",
            "Installing collected packages: deap\n",
            "Successfully installed deap-1.3.3\n"
          ]
        }
      ],
      "source": [
        "import random\n",
        "!pip install deap\n",
        "from deap import base\n",
        "from deap import creator\n",
        "from deap import tools"
      ]
    },
    {
      "cell_type": "code",
      "source": [
        "# creator is a class factory that can build new classes at run-time\n",
        "creator.create(\"FitnessMax\", base.Fitness, weights=(1.0,))\n",
        "creator.create(\"Individual\", list, fitness=creator.FitnessMax)"
      ],
      "metadata": {
        "id": "L9ZSaDZL0RAy"
      },
      "execution_count": 3,
      "outputs": []
    },
    {
      "cell_type": "code",
      "source": [
        "# a toolbox stores functions and their arguments\n",
        "toolbox = base.Toolbox()\n",
        "\n",
        "# attribute generator\n",
        "toolbox.register(\"attr_bool\", random.randint, 0, 1)\n",
        "\n",
        "# structure initializers\n",
        "toolbox.register(\"individual\", tools.initRepeat, creator.Individual, toolbox.attr_bool, 100)\n",
        "toolbox.register(\"population\", tools.initRepeat, list, toolbox.individual)"
      ],
      "metadata": {
        "id": "3g7xyyMA0kIa"
      },
      "execution_count": 4,
      "outputs": []
    },
    {
      "cell_type": "code",
      "source": [
        "# evaluation function\n",
        "def evalOneMax(individual):\n",
        "    return sum(individual),\n"
      ],
      "metadata": {
        "id": "frwbGvRP0pDC"
      },
      "execution_count": 5,
      "outputs": []
    },
    {
      "cell_type": "code",
      "source": [
        "# register the required genetic operators\n",
        "toolbox.register(\"evaluate\", evalOneMax)\n",
        "toolbox.register(\"mate\", tools.cxTwoPoint)\n",
        "toolbox.register(\"mutate\", tools.mutFlipBit, indpb=0.05)\n",
        "toolbox.register(\"select\", tools.selTournament, tournsize=3)\n"
      ],
      "metadata": {
        "id": "ZHkR7xO20qx5"
      },
      "execution_count": 6,
      "outputs": []
    },
    {
      "cell_type": "code",
      "source": [
        "random.seed(64)\n",
        "\n",
        "# instantiate a population\n",
        "pop = toolbox.population(n=300)\n",
        "CXPB, MUTPB, NGEN = 0.5, 0.2, 40\n",
        "\n",
        "# evaluate the entire population\n",
        "fitnesses = list(map(toolbox.evaluate, pop))\n",
        "for ind, fit in zip(pop, fitnesses):\n",
        "    ind.fitness.values = fit\n",
        "\n",
        "print(\"  Evaluated %i individuals\" % len(pop))\n"
      ],
      "metadata": {
        "colab": {
          "base_uri": "https://localhost:8080/"
        },
        "id": "7Cb03q-30seC",
        "outputId": "62c8e510-79b4-4926-d897-441f32bc26b4"
      },
      "execution_count": 7,
      "outputs": [
        {
          "output_type": "stream",
          "name": "stdout",
          "text": [
            "  Evaluated 300 individuals\n"
          ]
        }
      ]
    },
    {
      "cell_type": "code",
      "source": [
        "# begin the evolution\n",
        "for g in range(NGEN):\n",
        "    print(\"-- Generation %i --\" % g)\n",
        "\n",
        "    # select the next generation individuals\n",
        "    offspring = toolbox.select(pop, len(pop))\n",
        "\n",
        "    # clone the selected individuals\n",
        "    offspring = list(map(toolbox.clone, offspring))\n",
        "\n",
        "    # apply crossover and mutation on the offspring\n",
        "    for child1, child2 in zip(offspring[::2], offspring[1::2]):\n",
        "        if random.random() < CXPB:\n",
        "            toolbox.mate(child1, child2)\n",
        "            del child1.fitness.values\n",
        "            del child2.fitness.values\n",
        "\n",
        "    for mutant in offspring:\n",
        "        if random.random() < MUTPB:\n",
        "            toolbox.mutate(mutant)\n",
        "            del mutant.fitness.values\n",
        "\n",
        "    # evaluate the individuals with an invalid fitness\n",
        "    invalid_ind = [ind for ind in offspring if not ind.fitness.valid]\n",
        "    fitnesses = map(toolbox.evaluate, invalid_ind)\n",
        "    for ind, fit in zip(invalid_ind, fitnesses):\n",
        "        ind.fitness.values = fit\n",
        "\n",
        "    print(\"  Evaluated %i individuals\" % len(invalid_ind))\n",
        "\n",
        "    # the population is entirely replaced by the offspring\n",
        "    pop[:] = offspring\n",
        "\n",
        "    # gather all the fitnesses in one list and print the stats\n",
        "    fits = [ind.fitness.values[0] for ind in pop]\n",
        "\n",
        "    length = len(pop)\n",
        "    mean = sum(fits) / length\n",
        "    sum2 = sum(x*x for x in fits)\n",
        "    std = abs(sum2 / length - mean**2)**0.5\n",
        "\n",
        "    print(\"  Min %s\" % min(fits))\n",
        "    print(\"  Max %s\" % max(fits))\n",
        "    print(\"  Avg %s\" % mean)\n",
        "    print(\"  Std %s\" % std)"
      ],
      "metadata": {
        "colab": {
          "base_uri": "https://localhost:8080/"
        },
        "id": "z-SIgPoJ0uwi",
        "outputId": "9556a50b-6ed7-41ad-a727-d17a83f394e2"
      },
      "execution_count": 8,
      "outputs": [
        {
          "output_type": "stream",
          "name": "stdout",
          "text": [
            "-- Generation 0 --\n",
            "  Evaluated 181 individuals\n",
            "  Min 44.0\n",
            "  Max 66.0\n",
            "  Avg 54.833333333333336\n",
            "  Std 4.349584909952722\n",
            "-- Generation 1 --\n",
            "  Evaluated 191 individuals\n",
            "  Min 47.0\n",
            "  Max 68.0\n",
            "  Avg 58.45666666666666\n",
            "  Std 3.455641120769904\n",
            "-- Generation 2 --\n",
            "  Evaluated 199 individuals\n",
            "  Min 52.0\n",
            "  Max 68.0\n",
            "  Avg 60.95333333333333\n",
            "  Std 2.9024970092816367\n",
            "-- Generation 3 --\n",
            "  Evaluated 167 individuals\n",
            "  Min 47.0\n",
            "  Max 71.0\n",
            "  Avg 62.96\n",
            "  Std 2.907186497858939\n",
            "-- Generation 4 --\n",
            "  Evaluated 175 individuals\n",
            "  Min 57.0\n",
            "  Max 73.0\n",
            "  Avg 64.99\n",
            "  Std 2.8489588741621903\n",
            "-- Generation 5 --\n",
            "  Evaluated 168 individuals\n",
            "  Min 58.0\n",
            "  Max 74.0\n",
            "  Avg 66.93333333333334\n",
            "  Std 2.8051539866624524\n",
            "-- Generation 6 --\n",
            "  Evaluated 187 individuals\n",
            "  Min 59.0\n",
            "  Max 76.0\n",
            "  Avg 68.91666666666667\n",
            "  Std 2.826609669236565\n",
            "-- Generation 7 --\n",
            "  Evaluated 171 individuals\n",
            "  Min 62.0\n",
            "  Max 76.0\n",
            "  Avg 70.88666666666667\n",
            "  Std 2.4455038108513407\n",
            "-- Generation 8 --\n",
            "  Evaluated 155 individuals\n",
            "  Min 62.0\n",
            "  Max 80.0\n",
            "  Avg 72.69\n",
            "  Std 2.6243538887379163\n",
            "-- Generation 9 --\n",
            "  Evaluated 171 individuals\n",
            "  Min 64.0\n",
            "  Max 82.0\n",
            "  Avg 74.12333333333333\n",
            "  Std 2.6105150619921655\n",
            "-- Generation 10 --\n",
            "  Evaluated 191 individuals\n",
            "  Min 65.0\n",
            "  Max 82.0\n",
            "  Avg 75.64\n",
            "  Std 2.7000740730579715\n",
            "-- Generation 11 --\n",
            "  Evaluated 171 individuals\n",
            "  Min 69.0\n",
            "  Max 84.0\n",
            "  Avg 77.18\n",
            "  Std 2.5575248451054877\n",
            "-- Generation 12 --\n",
            "  Evaluated 173 individuals\n",
            "  Min 69.0\n",
            "  Max 84.0\n",
            "  Avg 78.76666666666667\n",
            "  Std 2.244746954311161\n",
            "-- Generation 13 --\n",
            "  Evaluated 185 individuals\n",
            "  Min 72.0\n",
            "  Max 86.0\n",
            "  Avg 79.90666666666667\n",
            "  Std 2.3645906387552182\n",
            "-- Generation 14 --\n",
            "  Evaluated 205 individuals\n",
            "  Min 72.0\n",
            "  Max 88.0\n",
            "  Avg 81.44333333333333\n",
            "  Std 2.3805018145108905\n",
            "-- Generation 15 --\n",
            "  Evaluated 163 individuals\n",
            "  Min 74.0\n",
            "  Max 88.0\n",
            "  Avg 82.67666666666666\n",
            "  Std 2.2253364289973994\n",
            "-- Generation 16 --\n",
            "  Evaluated 175 individuals\n",
            "  Min 76.0\n",
            "  Max 88.0\n",
            "  Avg 83.68333333333334\n",
            "  Std 2.3741080196335167\n",
            "-- Generation 17 --\n",
            "  Evaluated 181 individuals\n",
            "  Min 74.0\n",
            "  Max 90.0\n",
            "  Avg 84.80666666666667\n",
            "  Std 2.3027423264928153\n",
            "-- Generation 18 --\n",
            "  Evaluated 179 individuals\n",
            "  Min 74.0\n",
            "  Max 91.0\n",
            "  Avg 85.62333333333333\n",
            "  Std 2.5195480194316042\n",
            "-- Generation 19 --\n",
            "  Evaluated 178 individuals\n",
            "  Min 78.0\n",
            "  Max 91.0\n",
            "  Avg 86.58\n",
            "  Std 2.1641626556246405\n",
            "-- Generation 20 --\n",
            "  Evaluated 173 individuals\n",
            "  Min 78.0\n",
            "  Max 91.0\n",
            "  Avg 87.25333333333333\n",
            "  Std 2.3314849821996857\n",
            "-- Generation 21 --\n",
            "  Evaluated 155 individuals\n",
            "  Min 79.0\n",
            "  Max 92.0\n",
            "  Avg 88.06\n",
            "  Std 2.157869319490837\n",
            "-- Generation 22 --\n",
            "  Evaluated 187 individuals\n",
            "  Min 80.0\n",
            "  Max 92.0\n",
            "  Avg 88.37\n",
            "  Std 2.201461635671229\n",
            "-- Generation 23 --\n",
            "  Evaluated 184 individuals\n",
            "  Min 82.0\n",
            "  Max 94.0\n",
            "  Avg 89.27666666666667\n",
            "  Std 1.9782455751384154\n",
            "-- Generation 24 --\n",
            "  Evaluated 198 individuals\n",
            "  Min 80.0\n",
            "  Max 95.0\n",
            "  Avg 89.77666666666667\n",
            "  Std 2.380501814510508\n",
            "-- Generation 25 --\n",
            "  Evaluated 185 individuals\n",
            "  Min 80.0\n",
            "  Max 96.0\n",
            "  Avg 90.62333333333333\n",
            "  Std 2.415530767531084\n",
            "-- Generation 26 --\n",
            "  Evaluated 160 individuals\n",
            "  Min 82.0\n",
            "  Max 96.0\n",
            "  Avg 91.62\n",
            "  Std 2.252909230306073\n",
            "-- Generation 27 --\n",
            "  Evaluated 182 individuals\n",
            "  Min 83.0\n",
            "  Max 97.0\n",
            "  Avg 92.45\n",
            "  Std 2.3637893307144857\n",
            "-- Generation 28 --\n",
            "  Evaluated 171 individuals\n",
            "  Min 84.0\n",
            "  Max 97.0\n",
            "  Avg 93.29333333333334\n",
            "  Std 2.4658917701760132\n",
            "-- Generation 29 --\n",
            "  Evaluated 184 individuals\n",
            "  Min 84.0\n",
            "  Max 97.0\n",
            "  Avg 94.14333333333333\n",
            "  Std 2.399191993614305\n",
            "-- Generation 30 --\n",
            "  Evaluated 161 individuals\n",
            "  Min 85.0\n",
            "  Max 98.0\n",
            "  Avg 94.91\n",
            "  Std 2.4059440281660702\n",
            "-- Generation 31 --\n",
            "  Evaluated 181 individuals\n",
            "  Min 85.0\n",
            "  Max 99.0\n",
            "  Avg 95.46333333333334\n",
            "  Std 2.2895390123094943\n",
            "-- Generation 32 --\n",
            "  Evaluated 177 individuals\n",
            "  Min 88.0\n",
            "  Max 99.0\n",
            "  Avg 96.02\n",
            "  Std 2.409619610367642\n",
            "-- Generation 33 --\n",
            "  Evaluated 182 individuals\n",
            "  Min 88.0\n",
            "  Max 99.0\n",
            "  Avg 96.77333333333333\n",
            "  Std 2.0917191228485437\n",
            "-- Generation 34 --\n",
            "  Evaluated 177 individuals\n",
            "  Min 86.0\n",
            "  Max 100.0\n",
            "  Avg 97.04333333333334\n",
            "  Std 2.325536975028139\n",
            "-- Generation 35 --\n",
            "  Evaluated 161 individuals\n",
            "  Min 88.0\n",
            "  Max 100.0\n",
            "  Avg 97.35666666666667\n",
            "  Std 2.501224144738165\n",
            "-- Generation 36 --\n",
            "  Evaluated 178 individuals\n",
            "  Min 90.0\n",
            "  Max 100.0\n",
            "  Avg 97.91666666666667\n",
            "  Std 2.343015625688944\n",
            "-- Generation 37 --\n",
            "  Evaluated 176 individuals\n",
            "  Min 87.0\n",
            "  Max 100.0\n",
            "  Avg 98.4\n",
            "  Std 2.1134489978859987\n",
            "-- Generation 38 --\n",
            "  Evaluated 202 individuals\n",
            "  Min 88.0\n",
            "  Max 100.0\n",
            "  Avg 98.24666666666667\n",
            "  Std 2.6100744987235416\n",
            "-- Generation 39 --\n",
            "  Evaluated 180 individuals\n",
            "  Min 90.0\n",
            "  Max 100.0\n",
            "  Avg 98.83333333333333\n",
            "  Std 2.1100289624131205\n"
          ]
        }
      ]
    },
    {
      "cell_type": "code",
      "source": [
        "best_ind = tools.selBest(pop, 1)[0]\n",
        "print(\"Best individual is %s, %s\" % (best_ind, best_ind.fitness.values))"
      ],
      "metadata": {
        "colab": {
          "base_uri": "https://localhost:8080/"
        },
        "id": "tJQgs8YR0yiy",
        "outputId": "48120a45-5bbd-42e6-efbe-e88f70098af8"
      },
      "execution_count": 9,
      "outputs": [
        {
          "output_type": "stream",
          "name": "stdout",
          "text": [
            "Best individual is [1, 1, 1, 1, 1, 1, 1, 1, 1, 1, 1, 1, 1, 1, 1, 1, 1, 1, 1, 1, 1, 1, 1, 1, 1, 1, 1, 1, 1, 1, 1, 1, 1, 1, 1, 1, 1, 1, 1, 1, 1, 1, 1, 1, 1, 1, 1, 1, 1, 1, 1, 1, 1, 1, 1, 1, 1, 1, 1, 1, 1, 1, 1, 1, 1, 1, 1, 1, 1, 1, 1, 1, 1, 1, 1, 1, 1, 1, 1, 1, 1, 1, 1, 1, 1, 1, 1, 1, 1, 1, 1, 1, 1, 1, 1, 1, 1, 1, 1, 1], (100.0,)\n"
          ]
        }
      ]
    },
    {
      "cell_type": "markdown",
      "source": [
        "# Symbolic Regression (GP)\n",
        "Symbolic regression is one of the best known problems in GP. It is commonly used as a tuning problem for new algorithms, but is also widely used with real-life distributions, where other regression methods may not work.\n",
        "\n",
        "All symbolic regression problems use an arbitrary data distribution, and try to fit the most accurately the data with a symbolic formula. Usually, a measure like the RMSE (Root Mean Square Error) is used to measure an individual’s fitness.\n",
        "\n",
        "In this example, we use a classical distribution, the quartic polynomial (x^4 + x^3 + x^2 + x), a one-dimension distribution. 20 equidistant points are generated in the range [-1, 1], and are used to evaluate the fitness."
      ],
      "metadata": {
        "id": "NVpHgsL60zwD"
      }
    },
    {
      "cell_type": "code",
      "source": [
        "import operator\n",
        "import math\n",
        "import random\n",
        "\n",
        "import numpy\n",
        "\n",
        "from deap import algorithms\n",
        "from deap import base\n",
        "from deap import creator\n",
        "from deap import tools\n",
        "from deap import gp\n",
        "\n",
        "# define a new function for divison that guards against divide by 0\n",
        "def protectedDiv(left, right):\n",
        "    try:\n",
        "        return left / right\n",
        "    except ZeroDivisionError:\n",
        "        return 1"
      ],
      "metadata": {
        "id": "CJmqsNeV011a"
      },
      "execution_count": 10,
      "outputs": []
    },
    {
      "cell_type": "code",
      "source": [
        "# add aritmetic primitives\n",
        "pset = gp.PrimitiveSet(\"MAIN\", 1)\n",
        "pset.addPrimitive(operator.add, 2)\n",
        "pset.addPrimitive(operator.sub, 2)\n",
        "pset.addPrimitive(operator.mul, 2)\n",
        "pset.addPrimitive(protectedDiv, 2)\n",
        "pset.addPrimitive(operator.neg, 1)\n",
        "pset.addPrimitive(math.cos, 1)\n",
        "pset.addPrimitive(math.sin, 1)\n",
        "\n",
        "# constant terminal\n",
        "pset.addEphemeralConstant(\"rand101\", lambda: random.randint(-1,1))\n",
        "\n",
        "# define number of inputs\n",
        "pset.renameArguments(ARG0='x')"
      ],
      "metadata": {
        "id": "KrWUWG3O0-ui"
      },
      "execution_count": 11,
      "outputs": []
    },
    {
      "cell_type": "code",
      "source": [
        "# create fitness and individual objects\n",
        "creator.create(\"FitnessMin\", base.Fitness, weights=(-1.0,))\n",
        "creator.create(\"Individual\", gp.PrimitiveTree, fitness=creator.FitnessMin)"
      ],
      "metadata": {
        "colab": {
          "base_uri": "https://localhost:8080/"
        },
        "id": "svbDZ1631ATb",
        "outputId": "fd5f3f9e-5e4a-4f05-ccbf-f82ddf38a64c"
      },
      "execution_count": 12,
      "outputs": [
        {
          "output_type": "stream",
          "name": "stderr",
          "text": [
            "/usr/local/lib/python3.10/dist-packages/deap/creator.py:138: RuntimeWarning: A class named 'Individual' has already been created and it will be overwritten. Consider deleting previous creation of that class or rename it.\n",
            "  warnings.warn(\"A class named '{0}' has already been created and it \"\n"
          ]
        }
      ]
    },
    {
      "cell_type": "code",
      "source": [
        "# register evolution process parameters through the toolbox\n",
        "toolbox = base.Toolbox()\n",
        "toolbox.register(\"expr\", gp.genHalfAndHalf, pset=pset, min_=1, max_=2)\n",
        "toolbox.register(\"individual\", tools.initIterate, creator.Individual, toolbox.expr)\n",
        "toolbox.register(\"population\", tools.initRepeat, list, toolbox.individual)\n",
        "toolbox.register(\"compile\", gp.compile, pset=pset)\n",
        "\n",
        "# evaluation function\n",
        "def evalSymbReg(individual, points):\n",
        "    # transform the tree expression in a callable function\n",
        "    func = toolbox.compile(expr=individual)\n",
        "    # evaluate the mean squared error between the expression\n",
        "    # and the real function : x**4 + x**3 + x**2 + x\n",
        "    sqerrors = ((func(x) - x**4 - x**3 - x**2 - x)**2 for x in points)\n",
        "    return math.fsum(sqerrors) / len(points),\n",
        "\n",
        "toolbox.register(\"evaluate\", evalSymbReg, points=[x/10. for x in range(-10,10)])\n",
        "toolbox.register(\"select\", tools.selTournament, tournsize=3)\n",
        "toolbox.register(\"mate\", gp.cxOnePoint)\n",
        "toolbox.register(\"expr_mut\", gp.genFull, min_=0, max_=2)\n",
        "toolbox.register(\"mutate\", gp.mutUniform, expr=toolbox.expr_mut, pset=pset)\n",
        "\n",
        "# prevent functions from getting too deep/complex\n",
        "toolbox.decorate(\"mate\", gp.staticLimit(key=operator.attrgetter(\"height\"), max_value=17))\n",
        "toolbox.decorate(\"mutate\", gp.staticLimit(key=operator.attrgetter(\"height\"), max_value=17))\n"
      ],
      "metadata": {
        "id": "wk1t40Ll1EGi"
      },
      "execution_count": 13,
      "outputs": []
    },
    {
      "cell_type": "code",
      "source": [
        "# compute some statistics about the population\n",
        "stats_fit = tools.Statistics(lambda ind: ind.fitness.values)\n",
        "stats_size = tools.Statistics(len)\n",
        "mstats = tools.MultiStatistics(fitness=stats_fit, size=stats_size)\n",
        "mstats.register(\"avg\", numpy.mean)\n",
        "mstats.register(\"std\", numpy.std)\n",
        "mstats.register(\"min\", numpy.min)\n",
        "mstats.register(\"max\", numpy.max)\n"
      ],
      "metadata": {
        "id": "1guAbb6g1G1S"
      },
      "execution_count": 14,
      "outputs": []
    },
    {
      "cell_type": "code",
      "source": [
        "random.seed(318)\n",
        "\n",
        "pop = toolbox.population(n=300)\n",
        "hof = tools.HallOfFame(1)\n",
        "\n",
        "# run the algorithm\n",
        "pop, log = algorithms.eaSimple(pop, toolbox, 0.5, 0.1, 40, stats=mstats,\n",
        "                               halloffame=hof, verbose=True)"
      ],
      "metadata": {
        "colab": {
          "base_uri": "https://localhost:8080/"
        },
        "id": "Bp_qfynI1Jx6",
        "outputId": "b8b01ed5-ba67-4599-c8a5-d6c5c1369879"
      },
      "execution_count": 15,
      "outputs": [
        {
          "output_type": "stream",
          "name": "stdout",
          "text": [
            "   \t      \t                        fitness                        \t                      size                     \n",
            "   \t      \t-------------------------------------------------------\t-----------------------------------------------\n",
            "gen\tnevals\tavg    \tgen\tmax  \tmin     \tnevals\tstd    \tavg    \tgen\tmax\tmin\tnevals\tstd    \n",
            "0  \t300   \t1.78879\t0  \t30.34\t0.450825\t300   \t2.67896\t3.54667\t0  \t7  \t2  \t300   \t1.49482\n",
            "1  \t166   \t1.43254\t1  \t44.4437\t0.183711\t166   \t3.05668\t3.60667\t1  \t12 \t1  \t166   \t1.77725\n",
            "2  \t166   \t2.16879\t2  \t315.736\t0.165572\t166   \t18.1873\t3.55   \t2  \t9  \t1  \t166   \t1.62506\n",
            "3  \t163   \t0.98255\t3  \t2.9829 \t0.165572\t163   \t0.712666\t3.42667\t3  \t9  \t1  \t163   \t1.45073\n",
            "4  \t153   \t0.836017\t4  \t14.538 \t0.165572\t153   \t0.979399\t3.77   \t4  \t11 \t1  \t153   \t1.64025\n",
            "5  \t158   \t0.944635\t5  \t18.9739\t0.165572\t158   \t1.61614 \t3.77667\t5  \t10 \t1  \t158   \t1.62894\n",
            "6  \t169   \t0.885819\t6  \t14.2181\t0.165572\t169   \t1.00296 \t4      \t6  \t10 \t1  \t169   \t1.87617\n",
            "7  \t167   \t0.731332\t7  \t3.35292\t0.165572\t167   \t0.56016 \t4.35   \t7  \t10 \t1  \t167   \t1.92722\n",
            "8  \t187   \t0.785916\t8  \t19.1852\t0.13008 \t187   \t1.2426  \t5.13667\t8  \t14 \t1  \t187   \t2.21465\n",
            "9  \t176   \t0.672788\t9  \t14.2339\t0.123719\t176   \t1.00764 \t5.71667\t9  \t14 \t1  \t176   \t2.48389\n",
            "10 \t176   \t0.786975\t10 \t32.4952\t0.123719\t176   \t2.56679 \t6.27333\t10 \t15 \t1  \t176   \t2.33922\n",
            "11 \t167   \t0.961666\t11 \t62.7581\t0.123719\t167   \t4.10149 \t6.75667\t11 \t16 \t1  \t167   \t2.30162\n",
            "12 \t170   \t0.630202\t12 \t18.7613\t0.114276\t170   \t1.55098 \t7.06333\t12 \t16 \t1  \t170   \t2.55199\n",
            "13 \t173   \t0.792442\t13 \t18.7749\t0.114276\t173   \t2.0836  \t7.07333\t13 \t17 \t1  \t173   \t2.3212 \n",
            "14 \t163   \t0.701482\t14 \t16.5323\t0.0935121\t163   \t1.92386 \t7.01   \t14 \t16 \t1  \t163   \t2.74042\n",
            "15 \t178   \t0.796168\t15 \t63.2953\t0.0935121\t178   \t3.82723 \t7.42333\t15 \t17 \t1  \t178   \t3.11942\n",
            "16 \t154   \t0.446513\t16 \t19.0443\t0.0512969\t154   \t1.18016 \t7.73333\t16 \t17 \t1  \t154   \t3.35095\n",
            "17 \t177   \t0.378618\t17 \t4.88791\t0.0512969\t177   \t0.470854\t9.01   \t17 \t22 \t1  \t177   \t3.68464\n",
            "18 \t177   \t0.394816\t18 \t2.552  \t0.0512969\t177   \t0.45627 \t10.14  \t18 \t23 \t2  \t177   \t3.86097\n",
            "19 \t175   \t0.347051\t19 \t2.84707\t0.0147194\t175   \t0.428075\t11     \t19 \t24 \t1  \t175   \t4.21347\n",
            "20 \t167   \t0.370537\t20 \t18.9739\t0.0147194\t167   \t1.15424 \t11.6   \t20 \t25 \t3  \t167   \t4.13441\n",
            "21 \t159   \t0.302206\t21 \t2.54483\t0.0147194\t159   \t0.36307 \t12.78  \t21 \t33 \t1  \t159   \t5.04298\n",
            "22 \t161   \t0.329424\t22 \t5.15351\t0.014539 \t161   \t0.494736\t14.1033\t22 \t32 \t1  \t161   \t5.23762\n",
            "23 \t165   \t0.464998\t23 \t18.9739\t0.0147194\t165   \t1.51044 \t14.8933\t23 \t34 \t1  \t165   \t6.13259\n",
            "24 \t188   \t0.271713\t24 \t3.71933\t0.0147194\t188   \t0.436801\t15.0867\t24 \t34 \t2  \t188   \t6.25719\n",
            "25 \t152   \t0.269631\t25 \t14.5905\t0.0147194\t152   \t0.88428 \t15.22  \t25 \t47 \t1  \t152   \t6.49602\n",
            "26 \t164   \t0.230995\t26 \t4.4082 \t0.0147194\t164   \t0.436685\t16.0633\t26 \t41 \t3  \t164   \t6.52171\n",
            "27 \t159   \t0.185306\t27 \t5.249  \t0.0144201\t159   \t0.410217\t17.2333\t27 \t40 \t1  \t159   \t6.7111 \n",
            "28 \t164   \t0.165298\t28 \t1.98267\t0.0143442\t164   \t0.292591\t18.3   \t28 \t43 \t1  \t164   \t7.23763\n",
            "29 \t174   \t0.172642\t29 \t2.54124\t0.00182347\t174   \t0.352515\t18.33  \t29 \t37 \t1  \t174   \t6.69037\n",
            "30 \t141   \t0.10727 \t30 \t2.61126\t0.00182347\t141   \t0.241954\t19.3   \t30 \t37 \t3  \t141   \t5.483  \n",
            "31 \t154   \t0.129872\t31 \t2.18033\t0.00182347\t154   \t0.269947\t19.7933\t31 \t39 \t3  \t154   \t5.94788\n",
            "32 \t165   \t0.129453\t32 \t2.54124\t0.00182347\t165   \t0.287201\t20.2867\t32 \t43 \t1  \t165   \t6.5175 \n",
            "33 \t173   \t0.16656 \t33 \t2.54124\t0.00182347\t173   \t0.341339\t20.5633\t33 \t43 \t1  \t173   \t7.38823\n",
            "34 \t168   \t0.131975\t34 \t1.52568\t0.00182347\t168   \t0.232491\t20.4233\t34 \t48 \t3  \t168   \t7.45637\n",
            "35 \t153   \t0.152313\t35 \t2.54124\t0.00182347\t153   \t0.324276\t19.82  \t35 \t43 \t2  \t153   \t7.13589\n",
            "36 \t178   \t0.237937\t36 \t16.1106\t0.00182347\t178   \t0.990786\t19.11  \t36 \t43 \t3  \t178   \t7.68318\n",
            "37 \t157   \t0.185061\t37 \t4.76458\t0.00182347\t157   \t0.449021\t18.3667\t37 \t39 \t1  \t157   \t6.31128\n",
            "38 \t184   \t0.185972\t38 \t4.09456\t5.12297e-33\t184   \t0.358825\t17.4767\t38 \t48 \t1  \t184   \t7.37899\n",
            "39 \t149   \t0.193025\t39 \t2.9829 \t5.12297e-33\t149   \t0.377824\t16.87  \t39 \t35 \t1  \t149   \t5.85205\n",
            "40 \t161   \t0.127091\t40 \t1.59859\t5.12297e-33\t161   \t0.216044\t16.4767\t40 \t36 \t1  \t161   \t6.14948\n"
          ]
        }
      ]
    }
  ]
}